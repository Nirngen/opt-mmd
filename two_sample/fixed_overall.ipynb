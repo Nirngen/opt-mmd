{
 "cells": [
  {
   "cell_type": "code",
   "execution_count": null,
   "metadata": {
    "pycharm": {
     "is_executing": true
    }
   },
   "outputs": [],
   "source": [
    "from __future__ import division, print_function\n",
    "%matplotlib inline\n",
    "\n",
    "from glob import glob\n",
    "import os\n",
    "import sys\n",
    "\n",
    "import matplotlib.pyplot as plt\n",
    "import numpy as np\n",
    "import pandas as pd\n",
    "import progressbar as pb\n",
    "import seaborn as sns\n",
    "from scipy.stats.mstats import mquantiles"
   ]
  },
  {
   "cell_type": "code",
   "execution_count": null,
   "metadata": {
    "pycharm": {
     "is_executing": true
    }
   },
   "outputs": [],
   "source": [
    "problem = 'blobs'\n",
    "arg_prefix = 'rat'\n",
    "level = .1"
   ]
  },
  {
   "cell_type": "code",
   "execution_count": null,
   "metadata": {},
   "outputs": [],
   "source": [
    "basedir = os.path.join('res_fixed', problem)\n",
    "to_read = []\n",
    "for fn in glob(os.path.join(basedir, '{}*'.format(arg_prefix), 'n*.h5')):\n",
    "    arg, base = os.path.relpath(fn, basedir).split('\\\\')\n",
    "    arg = arg[len(arg_prefix):]\n",
    "    try:\n",
    "        arg = int(arg)\n",
    "    except ValueError:\n",
    "        try:\n",
    "            arg = float(arg)\n",
    "        except ValueError:\n",
    "            pass\n",
    "    n = int(base[1:-3])\n",
    "    to_read.append((arg, n, fn))"
   ]
  },
  {
   "cell_type": "code",
   "execution_count": null,
   "metadata": {},
   "outputs": [],
   "source": [
    "methods = [\n",
    "    ('mmd', lambda d: d.mmd_est),\n",
    "    ('t', lambda d: d.mmd_est / np.sqrt(d.var_est)),\n",
    "    ('criterion', lambda d: (d.mmd_est - _get_thresh(d) / n) / np.sqrt(d.var_est)),\n",
    "]"
   ]
  },
  {
   "cell_type": "code",
   "execution_count": null,
   "metadata": {},
   "outputs": [],
   "source": [
    "def _get_thresh(d):\n",
    "    if 'thresh_{}'.format(level) in d:\n",
    "        return d['thresh_{}'.format(level)]\n",
    "    elif 'samps' in d:\n",
    "        if d.samps.dtype != np.float32:\n",
    "            d['samps'] = d.samps.map(lambda x: np.fromstring(x, dtype=np.float32))\n",
    "        return d.samps.map(lambda s: mquantiles(s, prob=1 - level)[0])\n",
    "    else:\n",
    "        raise ValueError(\"Sorry, can't do level {}. Could do any of {}\".format(\n",
    "            level, ', '.join(str(float(k[len('thresh_'):]))\n",
    "                             for k in d if k.startswith('thresh_'))))"
   ]
  },
  {
   "cell_type": "code",
   "execution_count": null,
   "metadata": {},
   "outputs": [],
   "source": [
    "info_cols = (['problem_arg', 'n', 'best_power']\n",
    "             + ['{}_mean_power'.format(m) for m, f in methods]\n",
    "             + ['{}_std_power'.format(m) for m, f in methods])\n",
    "    \n",
    "info = []\n",
    "for i, (r, n, fn) in enumerate(to_read):\n",
    "    print('\\r{} / {}'.format(i, len(to_read)), end='', file=sys.stderr)\n",
    "    d = pd.read_hdf(fn)\n",
    "    power = d.groupby(level='sigma').p.agg(lambda x: (x <= level).mean())\n",
    "    \n",
    "    for m, f in methods:\n",
    "        d[m] = f(d)\n",
    "    \n",
    "    max_powers = d[[m for m, f in methods]].groupby(level='rep').agg(\n",
    "        lambda x: power.loc[x.idxmax()[0]])\n",
    "    means = max_powers.apply(np.mean)\n",
    "    stds = max_powers.apply(np.std)\n",
    "    info.append((r, n, power.max()) + tuple(means) + tuple(stds))\n",
    "print('\\r' + ' ' * 20, file=sys.stderr)\n",
    "\n",
    "info = pd.DataFrame(info, columns=info_cols)\n",
    "info.set_index(['problem_arg', 'n'], inplace=True)\n",
    "info.sortlevel(inplace=True)"
   ]
  },
  {
   "cell_type": "code",
   "execution_count": null,
   "metadata": {},
   "outputs": [],
   "source": [
    "def plot_errorbar(s, legend_loc='best'):\n",
    "    xs = np.asarray(s.index.get_level_values(0))\n",
    "    dist = np.diff(xs).min()\n",
    "    for i, (k, _) in enumerate(methods):\n",
    "        plt.errorbar(xs + (i-1) * dist / 30,\n",
    "                     np.asarray(s['{}_mean_power'.format(k)]),\n",
    "                     np.asarray(s['{}_std_power'.format(k)]),\n",
    "                     label=k)\n",
    "    plt.plot(xs, s.best_power, color='k', ls='--', label='best choice')\n",
    "    plt.legend(loc=legend_loc)\n",
    "    plt.ylabel('Rejection rate')"
   ]
  },
  {
   "cell_type": "code",
   "execution_count": null,
   "metadata": {
    "pycharm": {
     "name": "#%%\n"
    }
   },
   "outputs": [],
   "source": [
    "plot_errorbar(info.xs(500, level='n'))\n",
    "plt.savefig('./t/overall.png')"
   ]
  },
  {
   "cell_type": "code",
   "execution_count": null,
   "metadata": {
    "pycharm": {
     "name": "#%%\n"
    }
   },
   "outputs": [],
   "source": []
  }
 ],
 "metadata": {
  "anaconda-cloud": {},
  "kernelspec": {
   "display_name": "tfzero",
   "language": "python",
   "name": "tfzero"
  },
  "language_info": {
   "codemirror_mode": {
    "name": "ipython",
    "version": 3
   },
   "file_extension": ".py",
   "mimetype": "text/x-python",
   "name": "python",
   "nbconvert_exporter": "python",
   "pygments_lexer": "ipython3",
   "version": "3.5.6"
  }
 },
 "nbformat": 4,
 "nbformat_minor": 1
}